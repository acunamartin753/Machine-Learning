{
  "cells": [
    {
      "cell_type": "markdown",
      "metadata": {
        "id": "fFNAfw88uubF"
      },
      "source": [
        "[![Open In Colab](https://colab.research.google.com/assets/colab-badge.svg)](https://colab.research.google.com/github/aprendizaje-automatico-dc-uba-ar/material/blob/main/notebooks/notebook_04_implementacion_arboles-published.ipynb)\n",
        "\n",
        "## Árboles de decisión\n",
        "\n",
        "### Metiendonos debajo del capot\n",
        "\n",
        "En esta notebook exploraremos el funcionamiento de un árbol de decisión construido aquí mismo.\n",
        "\n",
        "Para eso contaremos con algunas partes de código resueltas y otras que se deberán completar.\n",
        "\n",
        "El objetivo será comprender la esencia de cómo se comportan los árboles a medida que le vamos agregando funcionalidad (o introduciendo _bugs_) para entender mejor su funcionamiento."
      ]
    },
    {
      "cell_type": "code",
      "execution_count": null,
      "metadata": {
        "id": "Q1EtuiewuubJ"
      },
      "outputs": [],
      "source": [
        "# Puede ser necesario instalar graphviz\n",
        "#!pip install graphviz"
      ]
    },
    {
      "cell_type": "code",
      "execution_count": null,
      "metadata": {
        "id": "fSYAfbttuubK"
      },
      "outputs": [],
      "source": [
        "# Cargamos bibliotecas necesarias\n",
        "import numpy as np\n",
        "import pandas as pd\n",
        "\n",
        "from collections import Counter\n",
        "import operator # Trae los operadores de Python como funciones y no infix\n",
        "from IPython.display import Image, display\n",
        "\n",
        "from graphviz import Digraph\n",
        "import pydotplus"
      ]
    },
    {
      "cell_type": "markdown",
      "metadata": {
        "id": "ObshtcFIuubK"
      },
      "source": [
        "A lo largo de este NoteBook usaremos objetos de distintos tipos de datos. Por simplicidad diremos que en todos los casos usaremos asumiremos que los parámetros pasados para cada función serán de los siguientes tipos:\n",
        "\n",
        "   - el parámetro `instancias` será un `DataFrame` de `pandas`\n",
        "   - el parámetro `etiquetas` será un `array` de `numpy` con valores `'Si'`, `'No'` (mismo para `etiquetas_rama_izquierda` y `etiquetas_rama_derecha`)\n",
        "   - el parámetro `pregunta` será un objeto de la clase `Decision` que es definida en este mismo archivo\n",
        "\n",
        "\n",
        "La clase Árbol la definiremos a continuación. Consta de:\n",
        "\n",
        "   - un constructor\n",
        "   - el método `fit` para entrenarlo (a modo de sklearn)\n",
        "   - el método `predict` para dada una instancia predecir su etiqueta\n",
        "   - el método `score` no se encuentra implementar aún\n",
        "   - métodos para visualizar y explorar el árbol\n",
        "\n"
      ]
    },
    {
      "cell_type": "code",
      "execution_count": null,
      "metadata": {
        "id": "PKnthcj_uubL"
      },
      "outputs": [],
      "source": [
        "# Definición de la clase árbol\n",
        "from typing import Optional, Tuple\n",
        "\n",
        "\n",
        "class Tree:\n",
        "    def __init__(\n",
        "        self,\n",
        "        decision=None,  # Esto va a tener tipo Decision, una clase que vamos a definir más adelante\n",
        "        left: Optional[\"Tree\"] = None,\n",
        "        right: Optional[\"Tree\"] = None,\n",
        "        labels: Optional[np.ndarray] = None,\n",
        "    ):\n",
        "        self.decision = decision\n",
        "        self.left = left\n",
        "        self.right = right\n",
        "\n",
        "        self.data = Counter(labels) if labels is not None else None\n",
        "\n",
        "    def fit(self, instancias: pd.DataFrame, etiquetas: np.ndarray):\n",
        "        # ALGORITMO RECURSIVO para construcción de un árbol de decisión binario.\n",
        "\n",
        "        # Suponemos que estamos parados en la raiz del árbol y tenemos que decidir cómo construirlo.\n",
        "        gain, decision = encontrar_mejor_atributo_y_corte(instancias, etiquetas)\n",
        "\n",
        "        # Criterio de corte: ¿Hay ganancia?\n",
        "        if gain <= 0:\n",
        "            #  Si no hay ganancia en separar, no separamos.\n",
        "            self.data = Counter(etiquetas)\n",
        "        else:\n",
        "            # Si hay ganancia en partir el conjunto en 2\n",
        "            (\n",
        "                instancias_cumplen,\n",
        "                etiquetas_cumplen,\n",
        "                instancias_no_cumplen,\n",
        "                etiquetas_no_cumplen,\n",
        "            ) = partir_segun(decision, instancias, etiquetas)\n",
        "            # partir devuelve instancias y etiquetas que caen en cada rama (izquierda y derecha)\n",
        "\n",
        "            # Paso recursivo (consultar con el computadorX más cercano)\n",
        "            sub_arbol_izquierdo = Tree()\n",
        "            sub_arbol_izquierdo.fit(instancias_cumplen, etiquetas_cumplen)\n",
        "            sub_arbol_derecho = Tree()\n",
        "            sub_arbol_derecho.fit(instancias_no_cumplen, etiquetas_no_cumplen)\n",
        "            # los pasos anteriores crean todo lo que necesitemos de sub-árbol izquierdo y sub-árbol derecho\n",
        "\n",
        "            self.decision = decision\n",
        "            self.left = sub_arbol_izquierdo\n",
        "            self.right = sub_arbol_derecho\n",
        "            self.data = Counter(etiquetas)\n",
        "\n",
        "    def predict(self, x_t: pd.Series) -> str:\n",
        "        if self.decision is None:\n",
        "            if self.data[\"Si\"] > self.data[\"No\"]:\n",
        "                return \"Si\"\n",
        "            else:\n",
        "                return \"No\"\n",
        "        else:\n",
        "            if self.decision.test(x_t):\n",
        "                return self.left.predict(x_t)\n",
        "            else:\n",
        "                return self.right.predict(x_t)\n",
        "\n",
        "    def score(self, X_test: pd.DataFrame, y_test: np.ndarray) -> float:\n",
        "        # COMPLETAR\n",
        "        return arbol.score(X_test, y_test)\n",
        "        pass\n",
        "\n",
        "    def __repr__(self) -> str:\n",
        "        return self._imprimir_arbol()\n",
        "\n",
        "    def _imprimir_arbol(self, spacing: str = \"\") -> str:\n",
        "        res = []\n",
        "        if self.decision is None:\n",
        "            res.append(spacing + f\"Hoja: {dict(self.data)}\")\n",
        "        else:\n",
        "            res.append(spacing + f\"{str(self.decision)} - {dict(self.data)}\")\n",
        "\n",
        "        if self.left is not None:\n",
        "            res.append(spacing + \"--> True:\")\n",
        "            res.append(self.left._imprimir_arbol(spacing + \"  \"))\n",
        "\n",
        "        if self.right is not None:\n",
        "            res.append(spacing + \"--> False:\")\n",
        "            res.append(self.right._imprimir_arbol(spacing + \"  \"))\n",
        "\n",
        "        return \"\\n\".join(res)\n",
        "\n",
        "    def render(self) -> Digraph:\n",
        "        dot = Digraph()\n",
        "\n",
        "        self.dot_tree_aux(self, dot, prefix=\"\")\n",
        "\n",
        "        return dot\n",
        "\n",
        "    def dot_tree_aux(self, subtree: \"Tree\", dot: Digraph, prefix: str):\n",
        "        label = [\n",
        "            (\n",
        "                f\"{subtree.decision.feature}: {subtree.decision.value}\"\n",
        "                if subtree.decision is not None\n",
        "                else \"\"\n",
        "            ),\n",
        "            f\"n={sum(subtree.data.values())}\",\n",
        "            str(dict(subtree.data)),\n",
        "        ]\n",
        "        label = \"\\n\".join(label)\n",
        "        col = \"#029E3980\" if subtree.data.most_common(1)[0][0] == \"Si\" else \"#EA080080\"\n",
        "        dot.node(prefix + \"n\", label=label, shape=\"box\", fillcolor=col, style=\"filled\")\n",
        "\n",
        "        if subtree.left:\n",
        "            self.dot_tree_aux(subtree.left, dot, prefix + \"l\")\n",
        "            dot.edge(prefix + \"n\", prefix + \"ln\", label=\"True\")\n",
        "\n",
        "        if subtree.right:\n",
        "            self.dot_tree_aux(subtree.right, dot, prefix + \"r\")\n",
        "            dot.edge(prefix + \"n\", prefix + \"rn\", label=\"False\")"
      ]
    },
    {
      "cell_type": "markdown",
      "metadata": {
        "id": "8xPLXeJLuubL"
      },
      "source": [
        "Para la decisiones en cada nodo tendremos la siguiente clase. Actualmente funciona comparando por igualdad, pero podría ser extendida en el futuro."
      ]
    },
    {
      "cell_type": "code",
      "execution_count": null,
      "metadata": {
        "id": "M1kejU4-uubM"
      },
      "outputs": [],
      "source": [
        "from typing import Any\n",
        "\n",
        "class Decision:\n",
        "    def __init__(self, feature: str, value: Any, test_function=operator.eq):\n",
        "        self.feature = feature\n",
        "        self.value = value\n",
        "        self.test_function = test_function\n",
        "\n",
        "    def test(self, x: pd.Series) -> bool:\n",
        "        # Devuelve verdadero si la instancia cumple con la pregunta\n",
        "        return self.test_function(self.value, x[self.feature])\n",
        "\n",
        "    def __repr__(self):\n",
        "        return \"¿Es el valor para {} igual a {}?\".format(self.feature, self.value)"
      ]
    },
    {
      "cell_type": "markdown",
      "metadata": {
        "id": "AEYRX4nauubM"
      },
      "source": [
        "## Funciones a completar\n",
        "\n",
        "Primero definir la función `gini`, que dado unas etiquetas dan el grado de impureza (ver definición en la teórica), se espera que devuelva un `float`."
      ]
    },
    {
      "cell_type": "code",
      "execution_count": null,
      "metadata": {
        "id": "8X47XcHCuubM"
      },
      "outputs": [],
      "source": [
        "def gini(etiquetas: np.ndarray) -> float:\n",
        "    n = len(etiquetas)\n",
        "    K = Counter(etiquetas)\n",
        "    impureza = 1\n",
        "    for k in K.values():\n",
        "      impureza = impureza - (k/n)**2\n",
        "    return impureza"
      ]
    },
    {
      "cell_type": "markdown",
      "metadata": {
        "id": "S0PX4-QKuubN"
      },
      "source": [
        "Definir la función `ganancia_gini` que dadas ciertas instancias y una posible separación entre dos ramas nos de la mejora que obtendremos al separar de esta manera. Devuelve un `float`."
      ]
    },
    {
      "cell_type": "code",
      "execution_count": null,
      "metadata": {
        "id": "ZMn-Dek0uubN"
      },
      "outputs": [],
      "source": [
        "def ganancia_gini(etiquetas_rama_izquierda: np.ndarray, etiquetas_rama_derecha: np.ndarray) -> float:\n",
        "    S = np.concatenate((etiquetas_rama_izquierda,etiquetas_rama_derecha))\n",
        "    #K_i = Counter(etiquetas_rama_izquierda)\n",
        "    n_i = len(etiquetas_rama_izquierda)\n",
        "    #K_d = Counter(etiquetas_rama_derecha)\n",
        "    n_d = len(etiquetas_rama_derecha)\n",
        "    N = n_i + n_d\n",
        "    ganancia_gini = gini(S) - ( (n_i/N) * gini(etiquetas_rama_izquierda) + (n_d/N) * gini(etiquetas_rama_derecha))\n",
        "\n",
        "    return ganancia_gini"
      ]
    },
    {
      "cell_type": "markdown",
      "metadata": {
        "id": "B0oDepB5uubN"
      },
      "source": [
        "Definir `partir_segun` que debe separar instancias y etiquetas según si cada instancia cumple o no con condición (ver método `test` de la clase `Decision`).\n",
        "\n",
        "Para este punto se recomienda la utilizacion de máscaras de pandas (ver Notebook 01 - Herramientas).\n",
        "\n",
        "Siguiendo con lo mencionado al inicio del NoteBook, la función debe devolver:\n",
        "\n",
        "   - 2 `DataFrame` de `pandas` con las instancias que cumplen (`instancias_cumplen`) y las que no `instancias_no_cumplen`\n",
        "   - 2 `array` de `numpy` con valores `'Si'`, `'No'`, uno con el valor de la etiqueta para las intancias que cumplen con la pregunta (`etiquetas_cumplen`) y otro con las etiquetas de las que no cumple (`etiquetas_cumplen`)\n"
      ]
    },
    {
      "cell_type": "code",
      "execution_count": null,
      "metadata": {
        "id": "z8QWp1FouubO"
      },
      "outputs": [],
      "source": [
        "def partir_segun(\n",
        "    pregunta: Decision,\n",
        "    instancias: pd.DataFrame,\n",
        "    etiquetas: np.ndarray\n",
        ") -> Tuple[pd.DataFrame, np.ndarray, pd.DataFrame, np.ndarray]:\n",
        "    # Esta función debe separar instancias y etiquetas según si cada instancia cumple o no\n",
        "    # COMPLETAR\n",
        "    #(instancias_cumplen,\n",
        "     #    etiquetas_cumplen,\n",
        "     #    instancias_no_cumplen,\n",
        "     #    etiquetas_no_cumplen) = [], [], [], []\n",
        "\n",
        "\n",
        "    instancias_cumplen = instancias[pregunta.test(instancias)]\n",
        "    etiquetas_cumplen = etiquetas[pregunta.test(instancias)]\n",
        "    instancias_no_cumplen = instancias[np.invert(pregunta.test(instancias))]\n",
        "    etiquetas_no_cumplen = etiquetas[np.invert(pregunta.test(instancias))]\n",
        "\n",
        "    return instancias_cumplen, etiquetas_cumplen, instancias_no_cumplen, etiquetas_no_cumplen\n"
      ]
    },
    {
      "cell_type": "markdown",
      "metadata": {
        "id": "Zmm4JuupuubO"
      },
      "source": [
        "A continuación se propone una implementación para poder encontrar el mejor atributo y corte posible. Esta función devuelve un `float` y una `Decision` correspondientes al mejor atributo y corte."
      ]
    },
    {
      "cell_type": "code",
      "execution_count": null,
      "metadata": {
        "id": "iodZpi8nuubO"
      },
      "outputs": [],
      "source": [
        "def encontrar_mejor_atributo_y_corte(\n",
        "    instancias: pd.DataFrame, etiquetas: np.ndarray\n",
        ") -> Tuple[float, Decision]:\n",
        "    # Implementación Gini Gain.\n",
        "    max_ganancia = 0\n",
        "    mejor_pregunta = None\n",
        "    for columna in instancias.columns:\n",
        "        for valor in set(instancias[columna]):\n",
        "            # Probando corte para atributo y valor\n",
        "            pregunta = Decision(columna, valor)\n",
        "            _, etiquetas_rama_izquierda, _, etiquetas_rama_derecha = partir_segun(\n",
        "                pregunta, instancias, etiquetas\n",
        "            )\n",
        "            if len(etiquetas_rama_izquierda) == 0 or len(etiquetas_rama_derecha) == 0:\n",
        "                continue\n",
        "\n",
        "            ganancia = ganancia_gini(etiquetas_rama_izquierda, etiquetas_rama_derecha)\n",
        "\n",
        "            if ganancia > max_ganancia:\n",
        "                max_ganancia = ganancia\n",
        "                mejor_pregunta = pregunta\n",
        "\n",
        "    return max_ganancia, mejor_pregunta"
      ]
    },
    {
      "cell_type": "markdown",
      "metadata": {
        "id": "3QtFaMkRuubO"
      },
      "source": [
        "Dado el siguiente dataset (el mismo que visto en clase):"
      ]
    },
    {
      "cell_type": "code",
      "execution_count": null,
      "metadata": {
        "id": "Uiu6R6PxuubO",
        "colab": {
          "base_uri": "https://localhost:8080/",
          "height": 524
        },
        "outputId": "e512647f-dca7-47d8-fdc3-2856911bbfdd"
      },
      "outputs": [
        {
          "output_type": "display_data",
          "data": {
            "text/plain": [
              "      Cielo Temperatura Humedad  Viento\n",
              "0       Sol       Calor    Alta   Debil\n",
              "1       Sol       Calor    Alta  Fuerte\n",
              "2   Nublado       Calor    Alta   Debil\n",
              "3    Lluvia    Templado    Alta   Debil\n",
              "4    Lluvia        Frio  Normal   Debil\n",
              "5    Lluvia        Frio  Normal  Fuerte\n",
              "6   Nublado        Frio  Normal  Fuerte\n",
              "7       Sol    Templado    Alta   Debil\n",
              "8       Sol        Frio  Normal   Debil\n",
              "9    Lluvia    Templado  Normal   Debil\n",
              "10      Sol    Templado  Normal  Fuerte\n",
              "11  Nublado    Templado    Alta  Fuerte\n",
              "12  Nublado       Calor  Normal   Debil\n",
              "13   Lluvia    Templado    Alta  Fuerte"
            ],
            "text/html": [
              "\n",
              "  <div id=\"df-21ed5d84-b2d8-4921-ab26-2fa673a5dcac\" class=\"colab-df-container\">\n",
              "    <div>\n",
              "<style scoped>\n",
              "    .dataframe tbody tr th:only-of-type {\n",
              "        vertical-align: middle;\n",
              "    }\n",
              "\n",
              "    .dataframe tbody tr th {\n",
              "        vertical-align: top;\n",
              "    }\n",
              "\n",
              "    .dataframe thead th {\n",
              "        text-align: right;\n",
              "    }\n",
              "</style>\n",
              "<table border=\"1\" class=\"dataframe\">\n",
              "  <thead>\n",
              "    <tr style=\"text-align: right;\">\n",
              "      <th></th>\n",
              "      <th>Cielo</th>\n",
              "      <th>Temperatura</th>\n",
              "      <th>Humedad</th>\n",
              "      <th>Viento</th>\n",
              "    </tr>\n",
              "  </thead>\n",
              "  <tbody>\n",
              "    <tr>\n",
              "      <th>0</th>\n",
              "      <td>Sol</td>\n",
              "      <td>Calor</td>\n",
              "      <td>Alta</td>\n",
              "      <td>Debil</td>\n",
              "    </tr>\n",
              "    <tr>\n",
              "      <th>1</th>\n",
              "      <td>Sol</td>\n",
              "      <td>Calor</td>\n",
              "      <td>Alta</td>\n",
              "      <td>Fuerte</td>\n",
              "    </tr>\n",
              "    <tr>\n",
              "      <th>2</th>\n",
              "      <td>Nublado</td>\n",
              "      <td>Calor</td>\n",
              "      <td>Alta</td>\n",
              "      <td>Debil</td>\n",
              "    </tr>\n",
              "    <tr>\n",
              "      <th>3</th>\n",
              "      <td>Lluvia</td>\n",
              "      <td>Templado</td>\n",
              "      <td>Alta</td>\n",
              "      <td>Debil</td>\n",
              "    </tr>\n",
              "    <tr>\n",
              "      <th>4</th>\n",
              "      <td>Lluvia</td>\n",
              "      <td>Frio</td>\n",
              "      <td>Normal</td>\n",
              "      <td>Debil</td>\n",
              "    </tr>\n",
              "    <tr>\n",
              "      <th>5</th>\n",
              "      <td>Lluvia</td>\n",
              "      <td>Frio</td>\n",
              "      <td>Normal</td>\n",
              "      <td>Fuerte</td>\n",
              "    </tr>\n",
              "    <tr>\n",
              "      <th>6</th>\n",
              "      <td>Nublado</td>\n",
              "      <td>Frio</td>\n",
              "      <td>Normal</td>\n",
              "      <td>Fuerte</td>\n",
              "    </tr>\n",
              "    <tr>\n",
              "      <th>7</th>\n",
              "      <td>Sol</td>\n",
              "      <td>Templado</td>\n",
              "      <td>Alta</td>\n",
              "      <td>Debil</td>\n",
              "    </tr>\n",
              "    <tr>\n",
              "      <th>8</th>\n",
              "      <td>Sol</td>\n",
              "      <td>Frio</td>\n",
              "      <td>Normal</td>\n",
              "      <td>Debil</td>\n",
              "    </tr>\n",
              "    <tr>\n",
              "      <th>9</th>\n",
              "      <td>Lluvia</td>\n",
              "      <td>Templado</td>\n",
              "      <td>Normal</td>\n",
              "      <td>Debil</td>\n",
              "    </tr>\n",
              "    <tr>\n",
              "      <th>10</th>\n",
              "      <td>Sol</td>\n",
              "      <td>Templado</td>\n",
              "      <td>Normal</td>\n",
              "      <td>Fuerte</td>\n",
              "    </tr>\n",
              "    <tr>\n",
              "      <th>11</th>\n",
              "      <td>Nublado</td>\n",
              "      <td>Templado</td>\n",
              "      <td>Alta</td>\n",
              "      <td>Fuerte</td>\n",
              "    </tr>\n",
              "    <tr>\n",
              "      <th>12</th>\n",
              "      <td>Nublado</td>\n",
              "      <td>Calor</td>\n",
              "      <td>Normal</td>\n",
              "      <td>Debil</td>\n",
              "    </tr>\n",
              "    <tr>\n",
              "      <th>13</th>\n",
              "      <td>Lluvia</td>\n",
              "      <td>Templado</td>\n",
              "      <td>Alta</td>\n",
              "      <td>Fuerte</td>\n",
              "    </tr>\n",
              "  </tbody>\n",
              "</table>\n",
              "</div>\n",
              "    <div class=\"colab-df-buttons\">\n",
              "\n",
              "  <div class=\"colab-df-container\">\n",
              "    <button class=\"colab-df-convert\" onclick=\"convertToInteractive('df-21ed5d84-b2d8-4921-ab26-2fa673a5dcac')\"\n",
              "            title=\"Convert this dataframe to an interactive table.\"\n",
              "            style=\"display:none;\">\n",
              "\n",
              "  <svg xmlns=\"http://www.w3.org/2000/svg\" height=\"24px\" viewBox=\"0 -960 960 960\">\n",
              "    <path d=\"M120-120v-720h720v720H120Zm60-500h600v-160H180v160Zm220 220h160v-160H400v160Zm0 220h160v-160H400v160ZM180-400h160v-160H180v160Zm440 0h160v-160H620v160ZM180-180h160v-160H180v160Zm440 0h160v-160H620v160Z\"/>\n",
              "  </svg>\n",
              "    </button>\n",
              "\n",
              "  <style>\n",
              "    .colab-df-container {\n",
              "      display:flex;\n",
              "      gap: 12px;\n",
              "    }\n",
              "\n",
              "    .colab-df-convert {\n",
              "      background-color: #E8F0FE;\n",
              "      border: none;\n",
              "      border-radius: 50%;\n",
              "      cursor: pointer;\n",
              "      display: none;\n",
              "      fill: #1967D2;\n",
              "      height: 32px;\n",
              "      padding: 0 0 0 0;\n",
              "      width: 32px;\n",
              "    }\n",
              "\n",
              "    .colab-df-convert:hover {\n",
              "      background-color: #E2EBFA;\n",
              "      box-shadow: 0px 1px 2px rgba(60, 64, 67, 0.3), 0px 1px 3px 1px rgba(60, 64, 67, 0.15);\n",
              "      fill: #174EA6;\n",
              "    }\n",
              "\n",
              "    .colab-df-buttons div {\n",
              "      margin-bottom: 4px;\n",
              "    }\n",
              "\n",
              "    [theme=dark] .colab-df-convert {\n",
              "      background-color: #3B4455;\n",
              "      fill: #D2E3FC;\n",
              "    }\n",
              "\n",
              "    [theme=dark] .colab-df-convert:hover {\n",
              "      background-color: #434B5C;\n",
              "      box-shadow: 0px 1px 3px 1px rgba(0, 0, 0, 0.15);\n",
              "      filter: drop-shadow(0px 1px 2px rgba(0, 0, 0, 0.3));\n",
              "      fill: #FFFFFF;\n",
              "    }\n",
              "  </style>\n",
              "\n",
              "    <script>\n",
              "      const buttonEl =\n",
              "        document.querySelector('#df-21ed5d84-b2d8-4921-ab26-2fa673a5dcac button.colab-df-convert');\n",
              "      buttonEl.style.display =\n",
              "        google.colab.kernel.accessAllowed ? 'block' : 'none';\n",
              "\n",
              "      async function convertToInteractive(key) {\n",
              "        const element = document.querySelector('#df-21ed5d84-b2d8-4921-ab26-2fa673a5dcac');\n",
              "        const dataTable =\n",
              "          await google.colab.kernel.invokeFunction('convertToInteractive',\n",
              "                                                    [key], {});\n",
              "        if (!dataTable) return;\n",
              "\n",
              "        const docLinkHtml = 'Like what you see? Visit the ' +\n",
              "          '<a target=\"_blank\" href=https://colab.research.google.com/notebooks/data_table.ipynb>data table notebook</a>'\n",
              "          + ' to learn more about interactive tables.';\n",
              "        element.innerHTML = '';\n",
              "        dataTable['output_type'] = 'display_data';\n",
              "        await google.colab.output.renderOutput(dataTable, element);\n",
              "        const docLink = document.createElement('div');\n",
              "        docLink.innerHTML = docLinkHtml;\n",
              "        element.appendChild(docLink);\n",
              "      }\n",
              "    </script>\n",
              "  </div>\n",
              "\n",
              "\n",
              "<div id=\"df-505a0645-1674-4bf6-8e2c-f95f3032c77d\">\n",
              "  <button class=\"colab-df-quickchart\" onclick=\"quickchart('df-505a0645-1674-4bf6-8e2c-f95f3032c77d')\"\n",
              "            title=\"Suggest charts\"\n",
              "            style=\"display:none;\">\n",
              "\n",
              "<svg xmlns=\"http://www.w3.org/2000/svg\" height=\"24px\"viewBox=\"0 0 24 24\"\n",
              "     width=\"24px\">\n",
              "    <g>\n",
              "        <path d=\"M19 3H5c-1.1 0-2 .9-2 2v14c0 1.1.9 2 2 2h14c1.1 0 2-.9 2-2V5c0-1.1-.9-2-2-2zM9 17H7v-7h2v7zm4 0h-2V7h2v10zm4 0h-2v-4h2v4z\"/>\n",
              "    </g>\n",
              "</svg>\n",
              "  </button>\n",
              "\n",
              "<style>\n",
              "  .colab-df-quickchart {\n",
              "      --bg-color: #E8F0FE;\n",
              "      --fill-color: #1967D2;\n",
              "      --hover-bg-color: #E2EBFA;\n",
              "      --hover-fill-color: #174EA6;\n",
              "      --disabled-fill-color: #AAA;\n",
              "      --disabled-bg-color: #DDD;\n",
              "  }\n",
              "\n",
              "  [theme=dark] .colab-df-quickchart {\n",
              "      --bg-color: #3B4455;\n",
              "      --fill-color: #D2E3FC;\n",
              "      --hover-bg-color: #434B5C;\n",
              "      --hover-fill-color: #FFFFFF;\n",
              "      --disabled-bg-color: #3B4455;\n",
              "      --disabled-fill-color: #666;\n",
              "  }\n",
              "\n",
              "  .colab-df-quickchart {\n",
              "    background-color: var(--bg-color);\n",
              "    border: none;\n",
              "    border-radius: 50%;\n",
              "    cursor: pointer;\n",
              "    display: none;\n",
              "    fill: var(--fill-color);\n",
              "    height: 32px;\n",
              "    padding: 0;\n",
              "    width: 32px;\n",
              "  }\n",
              "\n",
              "  .colab-df-quickchart:hover {\n",
              "    background-color: var(--hover-bg-color);\n",
              "    box-shadow: 0 1px 2px rgba(60, 64, 67, 0.3), 0 1px 3px 1px rgba(60, 64, 67, 0.15);\n",
              "    fill: var(--button-hover-fill-color);\n",
              "  }\n",
              "\n",
              "  .colab-df-quickchart-complete:disabled,\n",
              "  .colab-df-quickchart-complete:disabled:hover {\n",
              "    background-color: var(--disabled-bg-color);\n",
              "    fill: var(--disabled-fill-color);\n",
              "    box-shadow: none;\n",
              "  }\n",
              "\n",
              "  .colab-df-spinner {\n",
              "    border: 2px solid var(--fill-color);\n",
              "    border-color: transparent;\n",
              "    border-bottom-color: var(--fill-color);\n",
              "    animation:\n",
              "      spin 1s steps(1) infinite;\n",
              "  }\n",
              "\n",
              "  @keyframes spin {\n",
              "    0% {\n",
              "      border-color: transparent;\n",
              "      border-bottom-color: var(--fill-color);\n",
              "      border-left-color: var(--fill-color);\n",
              "    }\n",
              "    20% {\n",
              "      border-color: transparent;\n",
              "      border-left-color: var(--fill-color);\n",
              "      border-top-color: var(--fill-color);\n",
              "    }\n",
              "    30% {\n",
              "      border-color: transparent;\n",
              "      border-left-color: var(--fill-color);\n",
              "      border-top-color: var(--fill-color);\n",
              "      border-right-color: var(--fill-color);\n",
              "    }\n",
              "    40% {\n",
              "      border-color: transparent;\n",
              "      border-right-color: var(--fill-color);\n",
              "      border-top-color: var(--fill-color);\n",
              "    }\n",
              "    60% {\n",
              "      border-color: transparent;\n",
              "      border-right-color: var(--fill-color);\n",
              "    }\n",
              "    80% {\n",
              "      border-color: transparent;\n",
              "      border-right-color: var(--fill-color);\n",
              "      border-bottom-color: var(--fill-color);\n",
              "    }\n",
              "    90% {\n",
              "      border-color: transparent;\n",
              "      border-bottom-color: var(--fill-color);\n",
              "    }\n",
              "  }\n",
              "</style>\n",
              "\n",
              "  <script>\n",
              "    async function quickchart(key) {\n",
              "      const quickchartButtonEl =\n",
              "        document.querySelector('#' + key + ' button');\n",
              "      quickchartButtonEl.disabled = true;  // To prevent multiple clicks.\n",
              "      quickchartButtonEl.classList.add('colab-df-spinner');\n",
              "      try {\n",
              "        const charts = await google.colab.kernel.invokeFunction(\n",
              "            'suggestCharts', [key], {});\n",
              "      } catch (error) {\n",
              "        console.error('Error during call to suggestCharts:', error);\n",
              "      }\n",
              "      quickchartButtonEl.classList.remove('colab-df-spinner');\n",
              "      quickchartButtonEl.classList.add('colab-df-quickchart-complete');\n",
              "    }\n",
              "    (() => {\n",
              "      let quickchartButtonEl =\n",
              "        document.querySelector('#df-505a0645-1674-4bf6-8e2c-f95f3032c77d button');\n",
              "      quickchartButtonEl.style.display =\n",
              "        google.colab.kernel.accessAllowed ? 'block' : 'none';\n",
              "    })();\n",
              "  </script>\n",
              "</div>\n",
              "\n",
              "  <div id=\"id_2883995d-4e0f-4719-95bc-ec80825f0878\">\n",
              "    <style>\n",
              "      .colab-df-generate {\n",
              "        background-color: #E8F0FE;\n",
              "        border: none;\n",
              "        border-radius: 50%;\n",
              "        cursor: pointer;\n",
              "        display: none;\n",
              "        fill: #1967D2;\n",
              "        height: 32px;\n",
              "        padding: 0 0 0 0;\n",
              "        width: 32px;\n",
              "      }\n",
              "\n",
              "      .colab-df-generate:hover {\n",
              "        background-color: #E2EBFA;\n",
              "        box-shadow: 0px 1px 2px rgba(60, 64, 67, 0.3), 0px 1px 3px 1px rgba(60, 64, 67, 0.15);\n",
              "        fill: #174EA6;\n",
              "      }\n",
              "\n",
              "      [theme=dark] .colab-df-generate {\n",
              "        background-color: #3B4455;\n",
              "        fill: #D2E3FC;\n",
              "      }\n",
              "\n",
              "      [theme=dark] .colab-df-generate:hover {\n",
              "        background-color: #434B5C;\n",
              "        box-shadow: 0px 1px 3px 1px rgba(0, 0, 0, 0.15);\n",
              "        filter: drop-shadow(0px 1px 2px rgba(0, 0, 0, 0.3));\n",
              "        fill: #FFFFFF;\n",
              "      }\n",
              "    </style>\n",
              "    <button class=\"colab-df-generate\" onclick=\"generateWithVariable('X')\"\n",
              "            title=\"Generate code using this dataframe.\"\n",
              "            style=\"display:none;\">\n",
              "\n",
              "  <svg xmlns=\"http://www.w3.org/2000/svg\" height=\"24px\"viewBox=\"0 0 24 24\"\n",
              "       width=\"24px\">\n",
              "    <path d=\"M7,19H8.4L18.45,9,17,7.55,7,17.6ZM5,21V16.75L18.45,3.32a2,2,0,0,1,2.83,0l1.4,1.43a1.91,1.91,0,0,1,.58,1.4,1.91,1.91,0,0,1-.58,1.4L9.25,21ZM18.45,9,17,7.55Zm-12,3A5.31,5.31,0,0,0,4.9,8.1,5.31,5.31,0,0,0,1,6.5,5.31,5.31,0,0,0,4.9,4.9,5.31,5.31,0,0,0,6.5,1,5.31,5.31,0,0,0,8.1,4.9,5.31,5.31,0,0,0,12,6.5,5.46,5.46,0,0,0,6.5,12Z\"/>\n",
              "  </svg>\n",
              "    </button>\n",
              "    <script>\n",
              "      (() => {\n",
              "      const buttonEl =\n",
              "        document.querySelector('#id_2883995d-4e0f-4719-95bc-ec80825f0878 button.colab-df-generate');\n",
              "      buttonEl.style.display =\n",
              "        google.colab.kernel.accessAllowed ? 'block' : 'none';\n",
              "\n",
              "      buttonEl.onclick = () => {\n",
              "        google.colab.notebook.generateWithVariable('X');\n",
              "      }\n",
              "      })();\n",
              "    </script>\n",
              "  </div>\n",
              "\n",
              "    </div>\n",
              "  </div>\n"
            ],
            "application/vnd.google.colaboratory.intrinsic+json": {
              "type": "dataframe",
              "variable_name": "X",
              "summary": "{\n  \"name\": \"X\",\n  \"rows\": 14,\n  \"fields\": [\n    {\n      \"column\": \"Cielo\",\n      \"properties\": {\n        \"dtype\": \"category\",\n        \"num_unique_values\": 3,\n        \"samples\": [\n          \"Sol\",\n          \"Nublado\",\n          \"Lluvia\"\n        ],\n        \"semantic_type\": \"\",\n        \"description\": \"\"\n      }\n    },\n    {\n      \"column\": \"Temperatura\",\n      \"properties\": {\n        \"dtype\": \"category\",\n        \"num_unique_values\": 3,\n        \"samples\": [\n          \"Calor\",\n          \"Templado\",\n          \"Frio\"\n        ],\n        \"semantic_type\": \"\",\n        \"description\": \"\"\n      }\n    },\n    {\n      \"column\": \"Humedad\",\n      \"properties\": {\n        \"dtype\": \"category\",\n        \"num_unique_values\": 2,\n        \"samples\": [\n          \"Normal\",\n          \"Alta\"\n        ],\n        \"semantic_type\": \"\",\n        \"description\": \"\"\n      }\n    },\n    {\n      \"column\": \"Viento\",\n      \"properties\": {\n        \"dtype\": \"category\",\n        \"num_unique_values\": 2,\n        \"samples\": [\n          \"Fuerte\",\n          \"Debil\"\n        ],\n        \"semantic_type\": \"\",\n        \"description\": \"\"\n      }\n    }\n  ]\n}"
            }
          },
          "metadata": {}
        },
        {
          "output_type": "display_data",
          "data": {
            "text/plain": [
              "array(['No', 'No', 'Si', 'Si', 'Si', 'No', 'Si', 'No', 'Si', 'Si', 'Si',\n",
              "       'Si', 'Si', 'No'], dtype='<U2')"
            ]
          },
          "metadata": {}
        }
      ],
      "source": [
        "X = pd.DataFrame([[\"Sol\",\"Calor\",\"Alta\",\"Debil\"],\n",
        "                [\"Sol\",\"Calor\",\"Alta\",\"Fuerte\"],\n",
        "                [\"Nublado\",\"Calor\",\"Alta\",\"Debil\"],\n",
        "                [\"Lluvia\",\"Templado\",\"Alta\",\"Debil\"],\n",
        "                [\"Lluvia\",\"Frio\",\"Normal\",\"Debil\"],\n",
        "                [\"Lluvia\",\"Frio\",\"Normal\",\"Fuerte\"],\n",
        "                [\"Nublado\",\"Frio\",\"Normal\",\"Fuerte\"],\n",
        "                [\"Sol\",\"Templado\",\"Alta\",\"Debil\"],\n",
        "                [\"Sol\",\"Frio\",\"Normal\",\"Debil\"],\n",
        "                [\"Lluvia\",\"Templado\",\"Normal\",\"Debil\"],\n",
        "                [\"Sol\",\"Templado\",\"Normal\",\"Fuerte\"],\n",
        "                [\"Nublado\",\"Templado\",\"Alta\",\"Fuerte\"],\n",
        "                [\"Nublado\",\"Calor\",\"Normal\",\"Debil\"],\n",
        "                [\"Lluvia\",\"Templado\",\"Alta\",\"Fuerte\"]],\n",
        "                columns = ['Cielo', 'Temperatura', 'Humedad', 'Viento'])\n",
        "\n",
        "y = np.array(['No', 'No', 'Si', 'Si', 'Si', 'No', 'Si', 'No', 'Si', 'Si', 'Si', 'Si', 'Si', 'No'])\n",
        "\n",
        "\n",
        "display(X)\n",
        "display(y)"
      ]
    },
    {
      "cell_type": "markdown",
      "metadata": {
        "id": "rUCTcWCnuubO"
      },
      "source": [
        "Completar las funciones previas, entrenar y visualizar un Árbol de Decisión."
      ]
    },
    {
      "cell_type": "code",
      "execution_count": null,
      "metadata": {
        "id": "aKE-KQRZuubO",
        "colab": {
          "base_uri": "https://localhost:8080/",
          "height": 1000
        },
        "outputId": "a7a49817-fb87-4e36-89ca-4d6dcd9f2249"
      },
      "outputs": [
        {
          "output_type": "stream",
          "name": "stdout",
          "text": [
            "¿Es el valor para Cielo igual a Nublado? - {'No': 5, 'Si': 9}\n",
            "--> True:\n",
            "  Hoja: {'Si': 4}\n",
            "--> False:\n",
            "  ¿Es el valor para Humedad igual a Normal? - {'No': 5, 'Si': 5}\n",
            "  --> True:\n",
            "    ¿Es el valor para Viento igual a Debil? - {'Si': 4, 'No': 1}\n",
            "    --> True:\n",
            "      Hoja: {'Si': 3}\n",
            "    --> False:\n",
            "      ¿Es el valor para Cielo igual a Sol? - {'No': 1, 'Si': 1}\n",
            "      --> True:\n",
            "        Hoja: {'Si': 1}\n",
            "      --> False:\n",
            "        Hoja: {'No': 1}\n",
            "  --> False:\n",
            "    ¿Es el valor para Cielo igual a Sol? - {'No': 4, 'Si': 1}\n",
            "    --> True:\n",
            "      Hoja: {'No': 3}\n",
            "    --> False:\n",
            "      ¿Es el valor para Viento igual a Debil? - {'Si': 1, 'No': 1}\n",
            "      --> True:\n",
            "        Hoja: {'Si': 1}\n",
            "      --> False:\n",
            "        Hoja: {'No': 1}\n"
          ]
        },
        {
          "output_type": "execute_result",
          "data": {
            "image/svg+xml": "<?xml version=\"1.0\" encoding=\"UTF-8\" standalone=\"no\"?>\n<!DOCTYPE svg PUBLIC \"-//W3C//DTD SVG 1.1//EN\"\n \"http://www.w3.org/Graphics/SVG/1.1/DTD/svg11.dtd\">\n<!-- Generated by graphviz version 2.43.0 (0)\n -->\n<!-- Title: %3 Pages: 1 -->\n<svg width=\"417pt\" height=\"480pt\"\n viewBox=\"0.00 0.00 416.50 480.00\" xmlns=\"http://www.w3.org/2000/svg\" xmlns:xlink=\"http://www.w3.org/1999/xlink\">\n<g id=\"graph0\" class=\"graph\" transform=\"scale(1 1) rotate(0) translate(4 476)\">\n<title>%3</title>\n<polygon fill=\"white\" stroke=\"transparent\" points=\"-4,4 -4,-476 412.5,-476 412.5,4 -4,4\"/>\n<!-- n -->\n<g id=\"node1\" class=\"node\">\n<title>n</title>\n<polygon fill=\"#029e39\" fill-opacity=\"0.501961\" stroke=\"black\" points=\"154.5,-472 51.5,-472 51.5,-419 154.5,-419 154.5,-472\"/>\n<text text-anchor=\"middle\" x=\"103\" y=\"-456.8\" font-family=\"Times,serif\" font-size=\"14.00\">Cielo: Nublado</text>\n<text text-anchor=\"middle\" x=\"103\" y=\"-441.8\" font-family=\"Times,serif\" font-size=\"14.00\">n=14</text>\n<text text-anchor=\"middle\" x=\"103\" y=\"-426.8\" font-family=\"Times,serif\" font-size=\"14.00\">{&#39;No&#39;: 5, &#39;Si&#39;: 9}</text>\n</g>\n<!-- ln -->\n<g id=\"node2\" class=\"node\">\n<title>ln</title>\n<polygon fill=\"#029e39\" fill-opacity=\"0.501961\" stroke=\"black\" points=\"109,-368 49,-368 49,-314 109,-314 109,-368\"/>\n<text text-anchor=\"middle\" x=\"79\" y=\"-336.8\" font-family=\"Times,serif\" font-size=\"14.00\">n=4</text>\n<text text-anchor=\"middle\" x=\"79\" y=\"-321.8\" font-family=\"Times,serif\" font-size=\"14.00\">{&#39;Si&#39;: 4}</text>\n</g>\n<!-- n&#45;&gt;ln -->\n<g id=\"edge1\" class=\"edge\">\n<title>n&#45;&gt;ln</title>\n<path fill=\"none\" stroke=\"black\" d=\"M97.01,-418.9C94.13,-406.61 90.63,-391.68 87.49,-378.25\"/>\n<polygon fill=\"black\" stroke=\"black\" points=\"90.86,-377.28 85.17,-368.34 84.04,-378.88 90.86,-377.28\"/>\n<text text-anchor=\"middle\" x=\"106\" y=\"-389.8\" font-family=\"Times,serif\" font-size=\"14.00\">True</text>\n</g>\n<!-- rn -->\n<g id=\"node3\" class=\"node\">\n<title>rn</title>\n<polygon fill=\"#ea0800\" fill-opacity=\"0.501961\" stroke=\"black\" points=\"246.5,-367.5 127.5,-367.5 127.5,-314.5 246.5,-314.5 246.5,-367.5\"/>\n<text text-anchor=\"middle\" x=\"187\" y=\"-352.3\" font-family=\"Times,serif\" font-size=\"14.00\">Humedad: Normal</text>\n<text text-anchor=\"middle\" x=\"187\" y=\"-337.3\" font-family=\"Times,serif\" font-size=\"14.00\">n=10</text>\n<text text-anchor=\"middle\" x=\"187\" y=\"-322.3\" font-family=\"Times,serif\" font-size=\"14.00\">{&#39;No&#39;: 5, &#39;Si&#39;: 5}</text>\n</g>\n<!-- n&#45;&gt;rn -->\n<g id=\"edge12\" class=\"edge\">\n<title>n&#45;&gt;rn</title>\n<path fill=\"none\" stroke=\"black\" d=\"M123.98,-418.9C134.7,-405.81 147.89,-389.72 159.43,-375.65\"/>\n<polygon fill=\"black\" stroke=\"black\" points=\"162.36,-377.58 166,-367.63 156.95,-373.15 162.36,-377.58\"/>\n<text text-anchor=\"middle\" x=\"165.5\" y=\"-389.8\" font-family=\"Times,serif\" font-size=\"14.00\">False</text>\n</g>\n<!-- rln -->\n<g id=\"node4\" class=\"node\">\n<title>rln</title>\n<polygon fill=\"#029e39\" fill-opacity=\"0.501961\" stroke=\"black\" points=\"169.5,-263 66.5,-263 66.5,-210 169.5,-210 169.5,-263\"/>\n<text text-anchor=\"middle\" x=\"118\" y=\"-247.8\" font-family=\"Times,serif\" font-size=\"14.00\">Viento: Debil</text>\n<text text-anchor=\"middle\" x=\"118\" y=\"-232.8\" font-family=\"Times,serif\" font-size=\"14.00\">n=5</text>\n<text text-anchor=\"middle\" x=\"118\" y=\"-217.8\" font-family=\"Times,serif\" font-size=\"14.00\">{&#39;Si&#39;: 4, &#39;No&#39;: 1}</text>\n</g>\n<!-- rn&#45;&gt;rln -->\n<g id=\"edge6\" class=\"edge\">\n<title>rn&#45;&gt;rln</title>\n<path fill=\"none\" stroke=\"black\" d=\"M169.77,-314.4C161.04,-301.44 150.33,-285.52 140.92,-271.54\"/>\n<polygon fill=\"black\" stroke=\"black\" points=\"143.74,-269.47 135.25,-263.13 137.93,-273.38 143.74,-269.47\"/>\n<text text-anchor=\"middle\" x=\"170\" y=\"-284.8\" font-family=\"Times,serif\" font-size=\"14.00\">True</text>\n</g>\n<!-- rrn -->\n<g id=\"node9\" class=\"node\">\n<title>rrn</title>\n<polygon fill=\"#ea0800\" fill-opacity=\"0.501961\" stroke=\"black\" points=\"290.5,-263 187.5,-263 187.5,-210 290.5,-210 290.5,-263\"/>\n<text text-anchor=\"middle\" x=\"239\" y=\"-247.8\" font-family=\"Times,serif\" font-size=\"14.00\">Cielo: Sol</text>\n<text text-anchor=\"middle\" x=\"239\" y=\"-232.8\" font-family=\"Times,serif\" font-size=\"14.00\">n=5</text>\n<text text-anchor=\"middle\" x=\"239\" y=\"-217.8\" font-family=\"Times,serif\" font-size=\"14.00\">{&#39;No&#39;: 4, &#39;Si&#39;: 1}</text>\n</g>\n<!-- rn&#45;&gt;rrn -->\n<g id=\"edge11\" class=\"edge\">\n<title>rn&#45;&gt;rrn</title>\n<path fill=\"none\" stroke=\"black\" d=\"M199.99,-314.4C206.44,-301.68 214.33,-286.12 221.33,-272.33\"/>\n<polygon fill=\"black\" stroke=\"black\" points=\"224.59,-273.63 226,-263.13 218.35,-270.46 224.59,-273.63\"/>\n<text text-anchor=\"middle\" x=\"231.5\" y=\"-284.8\" font-family=\"Times,serif\" font-size=\"14.00\">False</text>\n</g>\n<!-- rlln -->\n<g id=\"node5\" class=\"node\">\n<title>rlln</title>\n<polygon fill=\"#029e39\" fill-opacity=\"0.501961\" stroke=\"black\" points=\"60,-159 0,-159 0,-105 60,-105 60,-159\"/>\n<text text-anchor=\"middle\" x=\"30\" y=\"-127.8\" font-family=\"Times,serif\" font-size=\"14.00\">n=3</text>\n<text text-anchor=\"middle\" x=\"30\" y=\"-112.8\" font-family=\"Times,serif\" font-size=\"14.00\">{&#39;Si&#39;: 3}</text>\n</g>\n<!-- rln&#45;&gt;rlln -->\n<g id=\"edge2\" class=\"edge\">\n<title>rln&#45;&gt;rlln</title>\n<path fill=\"none\" stroke=\"black\" d=\"M96.02,-209.9C84.96,-197.01 71.39,-181.21 59.44,-167.29\"/>\n<polygon fill=\"black\" stroke=\"black\" points=\"61.79,-164.65 52.62,-159.34 56.48,-169.21 61.79,-164.65\"/>\n<text text-anchor=\"middle\" x=\"93\" y=\"-180.8\" font-family=\"Times,serif\" font-size=\"14.00\">True</text>\n</g>\n<!-- rlrn -->\n<g id=\"node6\" class=\"node\">\n<title>rlrn</title>\n<polygon fill=\"#ea0800\" fill-opacity=\"0.501961\" stroke=\"black\" points=\"181.5,-158.5 78.5,-158.5 78.5,-105.5 181.5,-105.5 181.5,-158.5\"/>\n<text text-anchor=\"middle\" x=\"130\" y=\"-143.3\" font-family=\"Times,serif\" font-size=\"14.00\">Cielo: Sol</text>\n<text text-anchor=\"middle\" x=\"130\" y=\"-128.3\" font-family=\"Times,serif\" font-size=\"14.00\">n=2</text>\n<text text-anchor=\"middle\" x=\"130\" y=\"-113.3\" font-family=\"Times,serif\" font-size=\"14.00\">{&#39;No&#39;: 1, &#39;Si&#39;: 1}</text>\n</g>\n<!-- rln&#45;&gt;rlrn -->\n<g id=\"edge5\" class=\"edge\">\n<title>rln&#45;&gt;rlrn</title>\n<path fill=\"none\" stroke=\"black\" d=\"M121,-209.9C122.46,-197.42 124.24,-182.22 125.83,-168.63\"/>\n<polygon fill=\"black\" stroke=\"black\" points=\"129.31,-168.97 127,-158.63 122.36,-168.15 129.31,-168.97\"/>\n<text text-anchor=\"middle\" x=\"139.5\" y=\"-180.8\" font-family=\"Times,serif\" font-size=\"14.00\">False</text>\n</g>\n<!-- rlrln -->\n<g id=\"node7\" class=\"node\">\n<title>rlrln</title>\n<polygon fill=\"#029e39\" fill-opacity=\"0.501961\" stroke=\"black\" points=\"101,-54 41,-54 41,0 101,0 101,-54\"/>\n<text text-anchor=\"middle\" x=\"71\" y=\"-22.8\" font-family=\"Times,serif\" font-size=\"14.00\">n=1</text>\n<text text-anchor=\"middle\" x=\"71\" y=\"-7.8\" font-family=\"Times,serif\" font-size=\"14.00\">{&#39;Si&#39;: 1}</text>\n</g>\n<!-- rlrn&#45;&gt;rlrln -->\n<g id=\"edge3\" class=\"edge\">\n<title>rlrn&#45;&gt;rlrln</title>\n<path fill=\"none\" stroke=\"black\" d=\"M115.26,-105.27C107.93,-92.47 98.95,-76.8 91,-62.92\"/>\n<polygon fill=\"black\" stroke=\"black\" points=\"93.97,-61.05 85.96,-54.11 87.89,-64.53 93.97,-61.05\"/>\n<text text-anchor=\"middle\" x=\"118\" y=\"-75.8\" font-family=\"Times,serif\" font-size=\"14.00\">True</text>\n</g>\n<!-- rlrrn -->\n<g id=\"node8\" class=\"node\">\n<title>rlrrn</title>\n<polygon fill=\"#ea0800\" fill-opacity=\"0.501961\" stroke=\"black\" points=\"184.5,-54 119.5,-54 119.5,0 184.5,0 184.5,-54\"/>\n<text text-anchor=\"middle\" x=\"152\" y=\"-22.8\" font-family=\"Times,serif\" font-size=\"14.00\">n=1</text>\n<text text-anchor=\"middle\" x=\"152\" y=\"-7.8\" font-family=\"Times,serif\" font-size=\"14.00\">{&#39;No&#39;: 1}</text>\n</g>\n<!-- rlrn&#45;&gt;rlrrn -->\n<g id=\"edge4\" class=\"edge\">\n<title>rlrn&#45;&gt;rlrrn</title>\n<path fill=\"none\" stroke=\"black\" d=\"M135.49,-105.27C138.15,-92.83 141.39,-77.69 144.29,-64.12\"/>\n<polygon fill=\"black\" stroke=\"black\" points=\"147.76,-64.62 146.42,-54.11 140.91,-63.16 147.76,-64.62\"/>\n<text text-anchor=\"middle\" x=\"157.5\" y=\"-75.8\" font-family=\"Times,serif\" font-size=\"14.00\">False</text>\n</g>\n<!-- rrln -->\n<g id=\"node10\" class=\"node\">\n<title>rrln</title>\n<polygon fill=\"#ea0800\" fill-opacity=\"0.501961\" stroke=\"black\" points=\"266.5,-159 201.5,-159 201.5,-105 266.5,-105 266.5,-159\"/>\n<text text-anchor=\"middle\" x=\"234\" y=\"-127.8\" font-family=\"Times,serif\" font-size=\"14.00\">n=3</text>\n<text text-anchor=\"middle\" x=\"234\" y=\"-112.8\" font-family=\"Times,serif\" font-size=\"14.00\">{&#39;No&#39;: 3}</text>\n</g>\n<!-- rrn&#45;&gt;rrln -->\n<g id=\"edge7\" class=\"edge\">\n<title>rrn&#45;&gt;rrln</title>\n<path fill=\"none\" stroke=\"black\" d=\"M237.75,-209.9C237.16,-197.73 236.44,-182.97 235.79,-169.65\"/>\n<polygon fill=\"black\" stroke=\"black\" points=\"239.27,-169.16 235.29,-159.34 232.28,-169.5 239.27,-169.16\"/>\n<text text-anchor=\"middle\" x=\"250\" y=\"-180.8\" font-family=\"Times,serif\" font-size=\"14.00\">True</text>\n</g>\n<!-- rrrn -->\n<g id=\"node11\" class=\"node\">\n<title>rrrn</title>\n<polygon fill=\"#029e39\" fill-opacity=\"0.501961\" stroke=\"black\" points=\"387.5,-158.5 284.5,-158.5 284.5,-105.5 387.5,-105.5 387.5,-158.5\"/>\n<text text-anchor=\"middle\" x=\"336\" y=\"-143.3\" font-family=\"Times,serif\" font-size=\"14.00\">Viento: Debil</text>\n<text text-anchor=\"middle\" x=\"336\" y=\"-128.3\" font-family=\"Times,serif\" font-size=\"14.00\">n=2</text>\n<text text-anchor=\"middle\" x=\"336\" y=\"-113.3\" font-family=\"Times,serif\" font-size=\"14.00\">{&#39;Si&#39;: 1, &#39;No&#39;: 1}</text>\n</g>\n<!-- rrn&#45;&gt;rrrn -->\n<g id=\"edge10\" class=\"edge\">\n<title>rrn&#45;&gt;rrrn</title>\n<path fill=\"none\" stroke=\"black\" d=\"M263.23,-209.9C275.73,-196.69 291.12,-180.42 304.53,-166.25\"/>\n<polygon fill=\"black\" stroke=\"black\" points=\"307.41,-168.3 311.75,-158.63 302.33,-163.49 307.41,-168.3\"/>\n<text text-anchor=\"middle\" x=\"308.5\" y=\"-180.8\" font-family=\"Times,serif\" font-size=\"14.00\">False</text>\n</g>\n<!-- rrrln -->\n<g id=\"node12\" class=\"node\">\n<title>rrrln</title>\n<polygon fill=\"#029e39\" fill-opacity=\"0.501961\" stroke=\"black\" points=\"325,-54 265,-54 265,0 325,0 325,-54\"/>\n<text text-anchor=\"middle\" x=\"295\" y=\"-22.8\" font-family=\"Times,serif\" font-size=\"14.00\">n=1</text>\n<text text-anchor=\"middle\" x=\"295\" y=\"-7.8\" font-family=\"Times,serif\" font-size=\"14.00\">{&#39;Si&#39;: 1}</text>\n</g>\n<!-- rrrn&#45;&gt;rrrln -->\n<g id=\"edge8\" class=\"edge\">\n<title>rrrn&#45;&gt;rrrln</title>\n<path fill=\"none\" stroke=\"black\" d=\"M325.76,-105.27C320.76,-92.71 314.66,-77.39 309.22,-63.72\"/>\n<polygon fill=\"black\" stroke=\"black\" points=\"312.34,-62.11 305.39,-54.11 305.84,-64.7 312.34,-62.11\"/>\n<text text-anchor=\"middle\" x=\"331\" y=\"-75.8\" font-family=\"Times,serif\" font-size=\"14.00\">True</text>\n</g>\n<!-- rrrrn -->\n<g id=\"node13\" class=\"node\">\n<title>rrrrn</title>\n<polygon fill=\"#ea0800\" fill-opacity=\"0.501961\" stroke=\"black\" points=\"408.5,-54 343.5,-54 343.5,0 408.5,0 408.5,-54\"/>\n<text text-anchor=\"middle\" x=\"376\" y=\"-22.8\" font-family=\"Times,serif\" font-size=\"14.00\">n=1</text>\n<text text-anchor=\"middle\" x=\"376\" y=\"-7.8\" font-family=\"Times,serif\" font-size=\"14.00\">{&#39;No&#39;: 1}</text>\n</g>\n<!-- rrrn&#45;&gt;rrrrn -->\n<g id=\"edge9\" class=\"edge\">\n<title>rrrn&#45;&gt;rrrrn</title>\n<path fill=\"none\" stroke=\"black\" d=\"M345.99,-105.27C350.87,-92.71 356.82,-77.39 362.13,-63.72\"/>\n<polygon fill=\"black\" stroke=\"black\" points=\"365.5,-64.7 365.86,-54.11 358.98,-62.17 365.5,-64.7\"/>\n<text text-anchor=\"middle\" x=\"372.5\" y=\"-75.8\" font-family=\"Times,serif\" font-size=\"14.00\">False</text>\n</g>\n</g>\n</svg>\n",
            "text/plain": [
              "<graphviz.graphs.Digraph at 0x7e30f3dade70>"
            ]
          },
          "metadata": {},
          "execution_count": 20
        }
      ],
      "source": [
        "arbol = Tree()\n",
        "arbol.fit(X, y)\n",
        "print(arbol)\n",
        "arbol.render()"
      ]
    },
    {
      "cell_type": "markdown",
      "metadata": {
        "id": "Seqjbpl-uubP"
      },
      "source": [
        "Para evaluar instancias en el árbol podemos construirlas y evaluarlas de la siguiente manera:"
      ]
    },
    {
      "cell_type": "code",
      "execution_count": null,
      "metadata": {
        "id": "CC61yxoluubP",
        "colab": {
          "base_uri": "https://localhost:8080/"
        },
        "outputId": "0200be79-a982-47d3-ad85-e0167458a5cc"
      },
      "outputs": [
        {
          "output_type": "stream",
          "name": "stdout",
          "text": [
            "Para un día {'Cielo': 'Sol', 'Temperatura': 'Calor', 'Humedad': 'Alta', 'Viento': 'Debil'} obtuve No\n",
            "Para un día {'Cielo': 'Nublado', 'Temperatura': 'Calor', 'Humedad': 'Alta', 'Viento': 'Debil'} obtuve Si\n"
          ]
        }
      ],
      "source": [
        "xs_nuevo = [{'Cielo': 'Sol', 'Temperatura': 'Calor', 'Humedad': 'Alta', 'Viento': 'Debil'},\n",
        "            {'Cielo': 'Nublado', 'Temperatura': 'Calor', 'Humedad': 'Alta', 'Viento': 'Debil'}]\n",
        "\n",
        "for instancia in xs_nuevo:\n",
        "    res = arbol.predict(instancia)\n",
        "    print(f\"Para un día {instancia} obtuve {res}\")"
      ]
    },
    {
      "cell_type": "markdown",
      "metadata": {
        "id": "HBh_6pOnuubP"
      },
      "source": [
        "¿Se obtuvieron los valores esperados? Explorar al menos 1 caso por cada rama del árbol."
      ]
    },
    {
      "cell_type": "markdown",
      "metadata": {
        "id": "lF3r-Ny1uubP"
      },
      "source": [
        "# Opcional: Atributos continuos"
      ]
    },
    {
      "cell_type": "markdown",
      "metadata": {
        "id": "KFNcQKMYuubP"
      },
      "source": [
        "La implementación anterior permite construir árboles partiendo de un dataset cuyos atributos no son continuos. Modificar dicha implementación para que soporte este tipo de atributos.\n",
        "¿Qué funciones hay que modificar?"
      ]
    },
    {
      "cell_type": "code",
      "source": [
        "arbol?"
      ],
      "metadata": {
        "id": "Fa_aOtIqIwvK"
      },
      "execution_count": null,
      "outputs": []
    },
    {
      "cell_type": "code",
      "source": [
        "tree?"
      ],
      "metadata": {
        "colab": {
          "base_uri": "https://localhost:8080/"
        },
        "id": "kpMFfgC4jOMJ",
        "outputId": "9503c406-0114-4ac4-f9d9-e89d0c9760fc"
      },
      "execution_count": null,
      "outputs": [
        {
          "output_type": "stream",
          "name": "stdout",
          "text": [
            "Object `tree` not found.\n"
          ]
        }
      ]
    },
    {
      "cell_type": "code",
      "source": [],
      "metadata": {
        "id": "AbOKexI4jSMe"
      },
      "execution_count": null,
      "outputs": []
    }
  ],
  "metadata": {
    "language_info": {
      "name": "python"
    },
    "colab": {
      "provenance": []
    },
    "kernelspec": {
      "name": "python3",
      "display_name": "Python 3"
    }
  },
  "nbformat": 4,
  "nbformat_minor": 0
}