{
  "cells": [
    {
      "cell_type": "markdown",
      "metadata": {
        "id": "Dm0cSKBGvyu8"
      },
      "source": [
        "[![Open In Colab](https://colab.research.google.com/assets/colab-badge.svg)](https://colab.research.google.com/github/aprendizaje-automatico-dc-uba-ar/material/blob/main/notebooks/notebook_02_titanic-published.ipynb)\n",
        "\n",
        "# Titanic\n",
        "\n",
        "En este ejercicio, deberán descargar y explorar el contenido de la base de datos en formato CSV (valores separados por comas) que contiene datos de pasajeros del naufragio del transatlántico Titanic en 1912, incluyendo edad, sexo, clase del pasaje y supervivencia a la tragedia, entre otros.\n",
        "\n",
        "Completar el notebook de manera de clasificar a los pasajeros en supervivientes y no supervivientes\n",
        "tan bien como sea posible.\n",
        "\n",
        "Atención, en este momento de la materia no está permitido usar ninguna técnica de Aprendizaje Automático.\n",
        "El objetivo es conseguir un buen porcentaje de aciertos sobre estos datos.\n"
      ]
    },
    {
      "cell_type": "markdown",
      "metadata": {
        "id": "7GgUy40Tvyu-"
      },
      "source": [
        "## Antes de empezar\n",
        "\n",
        "Preparamos algunas funciones auxiliares para trabajar:\n",
        "\n",
        "1. `cargar_datos`: lee el csv con los datos\n",
        "1. `predict`: dado un conjunto de datos, devuelve la predicción para cada instancia\n",
        "1. `accuracy`: métrica sobre el desempeño de una predicción definida como:\n",
        "\n",
        "  $$accuracy = \\frac{\\#aciertos}{\\#predicciones}$$\n",
        "        \n",
        "  Su interpretación puede ser:  en cuántos casos acerté.\n",
        "        "
      ]
    },
    {
      "cell_type": "code",
      "execution_count": null,
      "metadata": {
        "id": "3PO01Pryvyu_"
      },
      "outputs": [],
      "source": [
        "from IPython.display import display\n",
        "import pandas as pd\n",
        "from typing import Tuple\n",
        "\n",
        "def cargar_datos() -> Tuple[pd.DataFrame, pd.Series]:\n",
        "    \"\"\"\n",
        "    Carga los datos del Titanic desde un archivo CSV y devuelve las características (X) y las etiquetas (y).\n",
        "\n",
        "    Returns:\n",
        "        X (pd.DataFrame): Características del dataset, excluyendo la columna \"Survived\" y \"PassengerId\".\n",
        "        y (pd.Series): Etiquetas del dataset, correspondientes a la columna \"Survived\".\n",
        "    \"\"\"\n",
        "    df = pd.read_csv(\n",
        "        \"https://github.com/aprendizaje-automatico-dc-uba-ar/material/raw/main/notebooks/data_02_titanic.csv\"\n",
        "    )\n",
        "    X = df.drop(\"Survived\", axis=1).drop(\"PassengerId\", axis=1)\n",
        "    y = df.Survived\n",
        "    return X, y\n",
        "\n",
        "\n",
        "def predict(X: pd.DataFrame) -> list:\n",
        "    \"\"\"\n",
        "    Predice la salida para cada fila de los datos. Debe definirse primero la función predict_instance para utilizarla\n",
        "    \"\"\"\n",
        "    y_predicted = []\n",
        "    for x in X.itertuples():\n",
        "        try:\n",
        "            y_i = predict_instance(x)\n",
        "        except NameError:\n",
        "            raise NameError(\"Por favor definir la función predict_instance\")\n",
        "        y_predicted.append(y_i)\n",
        "    return y_predicted\n",
        "\n",
        "\n",
        "def accuracy(y_predicted: list, y_real: list) -> float:\n",
        "    \"\"\"\n",
        "    Calcula el accuracy entre un y_predicted y un y_real.\n",
        "    \"\"\"\n",
        "    TP_TN = sum([y_i == y_j for (y_i, y_j) in zip(y_predicted, y_real)])\n",
        "    P_N = len(y_real)\n",
        "    return TP_TN / P_N"
      ]
    },
    {
      "cell_type": "markdown",
      "metadata": {
        "id": "LouwedskvyvA"
      },
      "source": [
        "## Ejercicio\n",
        "\n",
        "Antes de empezar cargamos los datos y los separamos en `X` (dataframe de instancias con atributos que usaremos como columnas y datos como filas), `y` (vector de clases a las que corresponde cada instancia).\n",
        "\n",
        "Definición de los datos:\n",
        "\n",
        "Variable|Definición|Interpretación de valores\n",
        "--------|--------|--------\n",
        "survival|Sobreviviente|0 = No, 1 = Sí\n",
        "pclass|Clase de pasaje|1 = 1era, 2 = 2da, 3 = 3era\n",
        "sex|Sexo|\n",
        "Age|Edad en años|\n",
        "sibsp|# hermanos/as/ esposos/as a bordo|\n",
        "parch|# padres / hijos a bordo|\n",
        "ticket|Número de Ticket|\n",
        "fare|Tarifa|\n",
        "cabin|Número de cabina|\n",
        "embarked|Puerto de embarque|C = Cherbourg<br>Q = Queenstown<br>S = Southampton\n",
        "\n",
        "\n",
        "Una recomendación, para este ejercicio y para todos los ejercicios, antes de comenzar el ejercicio explorar los datos para ver qué forma/característica tiene y ganar intuición sobre el dominio en el que se va a trabajar.\n",
        "\n",
        "Entre muchas cosas, se puede:\n",
        "\n",
        "  - Inspeccione y verifique el tipo de dato del dataframe. Calcule medidas resumen para las distintas columnas\n",
        "  - Graficar distintos atributos y observar su distribución (Ej. la edad: ¿son más jóvenes? ¿O más viejos? ¿O un poco y un poco?).\n",
        "  - Graficar relaciones entre atributos y relaciones entre atributos y la salida (si sobrevivió o no). Ver opciones de `seaborn` sugeridas en el notebook anterior.\n",
        "  \n",
        "\n",
        "***Obs.*** Recuerde importar las librerías necesarias como `Matplotlib` o `Seaborn`.\n"
      ]
    },
    {
      "cell_type": "code",
      "execution_count": null,
      "metadata": {
        "id": "nzsxCw2DvyvA"
      },
      "outputs": [],
      "source": [
        "X, y = cargar_datos()"
      ]
    },
    {
      "cell_type": "code",
      "execution_count": null,
      "metadata": {
        "id": "i8HxsB6OvyvA"
      },
      "outputs": [],
      "source": [
        "X"
      ]
    },
    {
      "cell_type": "code",
      "execution_count": null,
      "metadata": {
        "id": "IzVkP7dgvyvB"
      },
      "outputs": [],
      "source": [
        "y"
      ]
    },
    {
      "cell_type": "code",
      "execution_count": null,
      "metadata": {
        "id": "JwTnY3h1vyvB"
      },
      "outputs": [],
      "source": []
    },
    {
      "cell_type": "markdown",
      "metadata": {
        "id": "wlaz9_fNvyvB"
      },
      "source": [
        "A continuación se encuentra la primera definición de una función que predice. Esta tarea se resuelve devolviendo la etiqueta 0 o 1.\n",
        "\n",
        "En este punto se puede usar la información disponible del dataframe que considere necesaria, pero para esta primer implementación, la solución planteada es trivial: sobrevivieron todas las personas.\n",
        "\n"
      ]
    },
    {
      "cell_type": "code",
      "execution_count": null,
      "metadata": {
        "id": "bMgdcTUmvyvB"
      },
      "outputs": [],
      "source": [
        "def predict_instance(x: pd.Series) -> int:\n",
        "    \"\"\"\n",
        "    Predice la clase para instancia x.\n",
        "    \"\"\"\n",
        "    prediction = 1  # CAMBIAR ESTA LINEA POR REGLAS\n",
        "\n",
        "    return prediction"
      ]
    },
    {
      "cell_type": "markdown",
      "metadata": {
        "id": "T9mhOzvIvyvB"
      },
      "source": [
        "Evaluamos este clasificador:"
      ]
    },
    {
      "cell_type": "code",
      "execution_count": null,
      "metadata": {
        "id": "mrVw6WNhvyvC"
      },
      "outputs": [],
      "source": [
        "y_pred = predict(X)\n",
        "# Completar el algoritmo para mejorar esta performance.\n",
        "\n",
        "print(f\"Accuracy: {round(accuracy(y_pred, y), 3)}\")"
      ]
    },
    {
      "cell_type": "markdown",
      "metadata": {
        "id": "qWYE_doFvyvC"
      },
      "source": [
        "### Consigna\n",
        "\n",
        "La tarea será escribir un algoritmo para predecir si sobrevivirá o no por instancia que obtenga el mejor valor de Accuracy.\n",
        "\n",
        "Para hacerlo sólo está permitido utilizar en la predicción reglas que tomen datos de la instancia (sin entrenamiento previo).\n",
        "\n",
        "Ej: `prediction = x.Sex==\"female\"`\n",
        "o combinaciones más complejas con condicionales (if), pero que únicamente utilicen los atributos de la instancia presente (`if x.Sex==\"female\": prediction = (x.Age % 2 == 0)  else: prediction = 0`.\n",
        "\n",
        "Como lo que tenemos es un `dataframe` de Pandas, podemos acceder a los atributos también así:\n",
        "```\n",
        "if x[\"Age\"] > 10:\n",
        "    return 1\n",
        "else:\n",
        "    ...\n",
        "```\n",
        "\n",
        "**No está permitido utilizar otras herramientas/técnicas en este punto.**"
      ]
    },
    {
      "cell_type": "code",
      "metadata": {
        "id": "TvDkHARSvyvC"
      },
      "source": [
        "def predict_instance(x: pd.Series):\n",
        "    ## COMPLETAR. Modificar las siguientes líneas\n",
        "    # la variable prediction debe contener la etiqueta 0 o 1\n",
        "    # este será su algoritmo algoritmo para predecir si sobrevivirá o no por instancia.\n",
        "\n",
        "    prediction = ...\n",
        "\n",
        "    ## FIN DE COMPLETAR\n",
        "    return prediction\n",
        "\n"
      ],
      "outputs": [],
      "execution_count": null
    },
    {
      "cell_type": "markdown",
      "metadata": {
        "id": "JWy1BqlBvyvC"
      },
      "source": [
        "¡A armar nuevas funciones de predicción y mejorar el Accuracy!"
      ]
    }
  ],
  "metadata": {
    "language_info": {
      "name": "python"
    },
    "colab": {
      "provenance": []
    }
  },
  "nbformat": 4,
  "nbformat_minor": 0
}